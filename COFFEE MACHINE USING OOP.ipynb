{
 "cells": [
  {
   "cell_type": "code",
   "execution_count": 10,
   "id": "51a0e869-d490-4d3c-b44b-fed306acda5d",
   "metadata": {},
   "outputs": [
    {
     "name": "stdin",
     "output_type": "stream",
     "text": [
      "What would you like!(latte/espresso/cappuccino/): latte\n"
     ]
    },
    {
     "name": "stdout",
     "output_type": "stream",
     "text": [
      "Please insert coins.\n"
     ]
    },
    {
     "name": "stdin",
     "output_type": "stream",
     "text": [
      "How many quarters?:  12\n",
      "How many dimes?:  12\n",
      "How many nickles?:  12\n",
      "How many pennies?:  12\n"
     ]
    },
    {
     "name": "stdout",
     "output_type": "stream",
     "text": [
      "Here is $2.42 in change.\n",
      "Here is your latte ☕️. Enjoy!\n"
     ]
    },
    {
     "name": "stdin",
     "output_type": "stream",
     "text": [
      "What would you like!(latte/espresso/cappuccino/): espresso\n"
     ]
    },
    {
     "name": "stdout",
     "output_type": "stream",
     "text": [
      "Please insert coins.\n"
     ]
    },
    {
     "name": "stdin",
     "output_type": "stream",
     "text": [
      "How many quarters?:  12\n",
      "How many dimes?:  12\n",
      "How many nickles?:  12\n",
      "How many pennies?:  12\n"
     ]
    },
    {
     "name": "stdout",
     "output_type": "stream",
     "text": [
      "Here is $3.42 in change.\n",
      "Here is your espresso ☕️. Enjoy!\n"
     ]
    },
    {
     "name": "stdin",
     "output_type": "stream",
     "text": [
      "What would you like!(latte/espresso/cappuccino/): off\n"
     ]
    }
   ],
   "source": [
    "from menu import Menu, MenuItem\n",
    "from coffee_maker import CoffeeMaker\n",
    "from money_machine import MoneyMachine\n",
    "\n",
    "money_machine = MoneyMachine()\n",
    "coffee_maker = CoffeeMaker()\n",
    "menu = Menu()\n",
    "\n",
    "is_on = True\n",
    "\n",
    "\n",
    "while is_on:\n",
    "     options = menu.get_items()\n",
    "     choice = input(f\"What would you like!({options}):\")\n",
    "     if choice == \"off\":\n",
    "         is_on = False\n",
    "     elif choice == \"report\":\n",
    "         coffee_maker.report()\n",
    "         money_machine.report()\n",
    "     else:\n",
    "         drink = menu.find_drink(choice)\n",
    "         if coffee_maker.is_resource_sufficient(drink) and money_machine.make_payment(drink.cost):\n",
    "             coffee_maker.make_coffee(drink)\n"
   ]
  },
  {
   "cell_type": "code",
   "execution_count": null,
   "id": "22d7cda0-60e5-4706-9bee-f241aca9749a",
   "metadata": {},
   "outputs": [],
   "source": []
  }
 ],
 "metadata": {
  "kernelspec": {
   "display_name": "Python 3 (ipykernel)",
   "language": "python",
   "name": "python3"
  },
  "language_info": {
   "codemirror_mode": {
    "name": "ipython",
    "version": 3
   },
   "file_extension": ".py",
   "mimetype": "text/x-python",
   "name": "python",
   "nbconvert_exporter": "python",
   "pygments_lexer": "ipython3",
   "version": "3.13.3"
  }
 },
 "nbformat": 4,
 "nbformat_minor": 5
}
